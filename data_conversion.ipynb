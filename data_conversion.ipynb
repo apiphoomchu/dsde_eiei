{
 "cells": [
  {
   "cell_type": "code",
   "execution_count": 1,
   "metadata": {},
   "outputs": [],
   "source": [
    "import json\n",
    "\n",
    "def extract_relevant_info(json_data):\n",
    "    core_data = json_data.get(\"abstracts-retrieval-response\", {}).get(\"coredata\", {})\n",
    "    authors = core_data.get(\"dc:creator\", {}).get(\"author\", [])\n",
    "    keywords = json_data.get(\"abstracts-retrieval-response\", {}).get(\"authkeywords\", {}).get(\"author-keyword\", [])\n",
    "    doi = core_data.get(\"prism:doi\", \"\")\n",
    "    \n",
    "    return {\n",
    "        \"title\": core_data.get(\"dc:title\", \"\"),\n",
    "        \"abstract\": core_data.get(\"dc:description\", \"\"),\n",
    "        \"publication_name\": core_data.get(\"prism:publicationName\", \"\"),\n",
    "        \"publication_year\": core_data.get(\"prism:coverDate\", \"\").split(\"-\")[0],\n",
    "        \"authors\": [author.get(\"ce:indexed-name\", \"\") for author in authors],\n",
    "        \"keywords\": [keyword.get(\"$\", \"\") for keyword in keywords],\n",
    "        \"doi\": doi,\n",
    "    }\n",
    "\n",
    "def process_file(file_path):\n",
    "    try:\n",
    "        with open(file_path, 'r') as file:\n",
    "            json_data = json.load(file)\n",
    "            return extract_relevant_info(json_data)\n",
    "    except Exception as e:\n",
    "        return {\"file\": file_path, \"error\": str(e)}\n",
    "    "
   ]
  },
  {
   "cell_type": "code",
   "execution_count": null,
   "metadata": {},
   "outputs": [],
   "source": [
    "import pandas as pd\n",
    "import os\n",
    "\n",
    "\n",
    "years = ['2023','2022','2021','2020','2019','2018']\n",
    "\n",
    "    \n",
    "# Collect all file paths in the year-wise folders\n",
    "all_file_paths = []\n",
    "for year in years:\n",
    "    base_dir = os.path.join(\"data\", year)\n",
    "    for root, dirs, files in os.walk(base_dir):\n",
    "        for file in files:\n",
    "            all_file_paths.append(os.path.join(root, file))\n",
    "\n",
    "    # Initialize a list to store processed data\n",
    "    processed_data_all = []\n",
    "\n",
    "    # Loop through all collected file paths and process them\n",
    "    for file_path in all_file_paths:\n",
    "        result = process_file(file_path)\n",
    "        processed_data_all.append(result)\n",
    "\n",
    "    # Create a DataFrame from the processed data\n",
    "    df = pd.DataFrame(processed_data_all)\n",
    "    df.dropna(subset=[\"title\", \"abstract\"], inplace=True)\n",
    "    df.drop(columns=[\"error\", \"file\"], inplace=True)"
   ]
  }
 ],
 "metadata": {
  "kernelspec": {
   "display_name": ".venv",
   "language": "python",
   "name": "python3"
  },
  "language_info": {
   "codemirror_mode": {
    "name": "ipython",
    "version": 3
   },
   "file_extension": ".py",
   "mimetype": "text/x-python",
   "name": "python",
   "nbconvert_exporter": "python",
   "pygments_lexer": "ipython3",
   "version": "3.11.6"
  }
 },
 "nbformat": 4,
 "nbformat_minor": 2
}
